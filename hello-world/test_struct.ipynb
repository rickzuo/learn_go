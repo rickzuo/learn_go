{
 "cells": [
  {
   "cell_type": "code",
   "execution_count": 17,
   "metadata": {},
   "outputs": [],
   "source": [
    "import \"fmt\"\n",
    "\n",
    "type Books struct {\n",
    "   title string\n",
    "   author string\n",
    "   subject string\n",
    "   book_id int\n",
    "}\n",
    "\n",
    "\n",
    "func main() {\n",
    "\n",
    "    // 创建一个新的结构体\n",
    "    fmt.Println(Books{\"Go 语言\", \"www.runoob.com\", \"Go 语言教程\", 6495407})\n",
    "\n",
    "    // 也可以使用 key => value 格式\n",
    "    fmt.Println(Books{title: \"Go 语言\", author: \"www.runoob.com\", subject: \"Go 语言教程\", book_id: 6495407})\n",
    "\n",
    "    // 忽略的字段为 0 或 空\n",
    "   fmt.Println(Books{title: \"Go 语言\", author: \"www.runoob.com\"})\n",
    "}"
   ]
  },
  {
   "cell_type": "code",
   "execution_count": 25,
   "metadata": {},
   "outputs": [],
   "source": [
    "var book = Books{\"Go 语言\", \"www.runoob.com\", \"Go 语言教程\", 6495407}"
   ]
  },
  {
   "cell_type": "code",
   "execution_count": 20,
   "metadata": {
    "scrolled": true
   },
   "outputs": [
    {
     "name": "stdout",
     "output_type": "stream",
     "text": [
      "{Go 语言 www.runoob.com Go 语言教程 6495407}\n",
      "{Go 语言 www.runoob.com Go 语言教程 6495407}\n",
      "{Go 语言 www.runoob.com  0}\n"
     ]
    }
   ],
   "source": [
    "main()"
   ]
  },
  {
   "cell_type": "code",
   "execution_count": 21,
   "metadata": {
    "scrolled": true
   },
   "outputs": [
    {
     "data": {
      "text/plain": [
       "{Go 语言 www.runoob.com Go 语言教程 6495407}"
      ]
     },
     "execution_count": 21,
     "metadata": {},
     "output_type": "execute_result"
    }
   ],
   "source": [
    "book"
   ]
  },
  {
   "cell_type": "code",
   "execution_count": 23,
   "metadata": {},
   "outputs": [
    {
     "data": {
      "text/plain": [
       "Go 语言"
      ]
     },
     "execution_count": 23,
     "metadata": {},
     "output_type": "execute_result"
    }
   ],
   "source": [
    "book.title"
   ]
  },
  {
   "cell_type": "code",
   "execution_count": 29,
   "metadata": {},
   "outputs": [],
   "source": [
    "var book2 Books"
   ]
  },
  {
   "cell_type": "code",
   "execution_count": 69,
   "metadata": {},
   "outputs": [],
   "source": [
    "book2.title = \"c languge\""
   ]
  },
  {
   "cell_type": "code",
   "execution_count": 70,
   "metadata": {},
   "outputs": [
    {
     "data": {
      "text/plain": [
       "c languge"
      ]
     },
     "execution_count": 70,
     "metadata": {},
     "output_type": "execute_result"
    }
   ],
   "source": [
    "book2.title\n"
   ]
  },
  {
   "cell_type": "code",
   "execution_count": 71,
   "metadata": {},
   "outputs": [
    {
     "data": {
      "text/plain": []
     },
     "execution_count": 71,
     "metadata": {},
     "output_type": "execute_result"
    }
   ],
   "source": [
    "book2.author"
   ]
  },
  {
   "cell_type": "code",
   "execution_count": 72,
   "metadata": {},
   "outputs": [],
   "source": [
    "func PrintBook(b Books){\n",
    "     b.title = \"PrintBook 改变book的值\"\n",
    "    fmt.Println(\"books \",b)\n",
    "    fmt.Println(\"title \",b.title)\n",
    "}"
   ]
  },
  {
   "cell_type": "code",
   "execution_count": 73,
   "metadata": {},
   "outputs": [
    {
     "name": "stdout",
     "output_type": "stream",
     "text": [
      "books  {PrintBook 改变book的值   0}\n",
      "title  PrintBook 改变book的值\n"
     ]
    }
   ],
   "source": [
    "PrintBook(book2)"
   ]
  },
  {
   "cell_type": "code",
   "execution_count": 74,
   "metadata": {},
   "outputs": [
    {
     "data": {
      "text/plain": [
       "c languge"
      ]
     },
     "execution_count": 74,
     "metadata": {},
     "output_type": "execute_result"
    }
   ],
   "source": [
    "book2.title"
   ]
  },
  {
   "cell_type": "code",
   "execution_count": 81,
   "metadata": {},
   "outputs": [],
   "source": [
    "\n",
    "var book3 = Books{title:\"小明\",author:\"小明他爸\"}\n",
    "\n",
    "// 参数为引用传递，可以改变book本身\n",
    "func printBookByPoint( book *Books ) {\n",
    "   book.title = \"小明变小李\"\n",
    "   fmt.Printf( \"Book title : %s\\n\", book.title)\n",
    "   fmt.Printf( \"Book author : %s\\n\", book.author)\n",
    "   fmt.Printf( \"Book subject : %s\\n\", book.subject)\n",
    "   fmt.Printf( \"Book book_id : %d\\n\", book.book_id)\n",
    "}"
   ]
  },
  {
   "cell_type": "code",
   "execution_count": 82,
   "metadata": {},
   "outputs": [
    {
     "name": "stdout",
     "output_type": "stream",
     "text": [
      "Book title : 小明变小李\n",
      "Book author : 小明他爸\n",
      "Book subject : \n",
      "Book book_id : 0\n"
     ]
    }
   ],
   "source": [
    "printBookByPoint(&book3)"
   ]
  },
  {
   "cell_type": "code",
   "execution_count": 83,
   "metadata": {},
   "outputs": [
    {
     "data": {
      "text/plain": [
       "{小明变小李 小明他爸  0}"
      ]
     },
     "execution_count": 83,
     "metadata": {},
     "output_type": "execute_result"
    }
   ],
   "source": [
    "book3"
   ]
  },
  {
   "cell_type": "code",
   "execution_count": null,
   "metadata": {},
   "outputs": [],
   "source": []
  }
 ],
 "metadata": {
  "kernelspec": {
   "display_name": "Go",
   "language": "go",
   "name": "gophernotes"
  },
  "language_info": {
   "codemirror_mode": "",
   "file_extension": ".go",
   "mimetype": "",
   "name": "go",
   "nbconvert_exporter": "",
   "pygments_lexer": "",
   "version": "go1.11.4"
  }
 },
 "nbformat": 4,
 "nbformat_minor": 2
}
