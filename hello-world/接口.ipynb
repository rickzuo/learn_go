{
 "cells": [
  {
   "cell_type": "code",
   "execution_count": 1,
   "metadata": {},
   "outputs": [
    {
     "ename": "ERROR",
     "evalue": "repl.go:3:17: expected ';', found '[' (and 1 more errors)",
     "output_type": "error",
     "traceback": [
      "repl.go:3:17: expected ';', found '[' (and 1 more errors)"
     ]
    }
   ],
   "source": [
    "/* 定义接口 */\n",
    "type interface_name interface {\n",
    "   method_name1 [return_type]\n",
    "   method_name2 [return_type]\n",
    "   method_name3 [return_type]\n",
    "   ...\n",
    "   method_namen [return_type]\n",
    "}\n",
    "\n",
    "\n",
    "/* 定义结构体 */\n",
    "type struct_name struct {\n",
    "   /* variables */\n",
    "}\n",
    "\n",
    "/* 实现接口方法 */\n",
    "func (struct_name_variable struct_name) method_name1() [return_type] {\n",
    "   /* 方法实现 */\n",
    "}\n",
    "...\n",
    "func (struct_name_variable struct_name) method_namen() [return_type] {\n",
    "   /* 方法实现*/\n",
    "}"
   ]
  },
  {
   "cell_type": "code",
   "execution_count": 8,
   "metadata": {},
   "outputs": [],
   "source": [
    "type Person interface{\n",
    "    sex()\n",
    "}"
   ]
  },
  {
   "cell_type": "code",
   "execution_count": 22,
   "metadata": {},
   "outputs": [],
   "source": [
    "type Woman struct{\n",
    "    Name string\n",
    "}\n",
    "\n",
    "type Man struct{\n",
    "    Name string\n",
    "}"
   ]
  },
  {
   "cell_type": "code",
   "execution_count": 34,
   "metadata": {},
   "outputs": [],
   "source": [
    "import \"fmt\"\n",
    "func (woman Woman) sex(){\n",
    "    fmt.Println(\"性别女\")\n",
    "}\n",
    "\n",
    "func (man Man) sex(){\n",
    "    fmt.Println(\"性别男\")\n",
    "}"
   ]
  },
  {
   "cell_type": "code",
   "execution_count": 35,
   "metadata": {},
   "outputs": [],
   "source": [
    "var person Person"
   ]
  },
  {
   "cell_type": "code",
   "execution_count": 36,
   "metadata": {},
   "outputs": [
    {
     "name": "stdout",
     "output_type": "stream",
     "text": [
      "性别女\n"
     ]
    }
   ],
   "source": [
    "person = new(Woman)\n",
    "person.sex()"
   ]
  },
  {
   "cell_type": "code",
   "execution_count": 37,
   "metadata": {},
   "outputs": [
    {
     "name": "stdout",
     "output_type": "stream",
     "text": [
      "性别男\n"
     ]
    }
   ],
   "source": [
    "person = new(Man)\n",
    "person.sex()"
   ]
  },
  {
   "cell_type": "code",
   "execution_count": null,
   "metadata": {},
   "outputs": [],
   "source": []
  },
  {
   "cell_type": "code",
   "execution_count": null,
   "metadata": {},
   "outputs": [],
   "source": []
  }
 ],
 "metadata": {
  "kernelspec": {
   "display_name": "Go",
   "language": "go",
   "name": "gophernotes"
  },
  "language_info": {
   "codemirror_mode": "",
   "file_extension": ".go",
   "mimetype": "",
   "name": "go",
   "nbconvert_exporter": "",
   "pygments_lexer": "",
   "version": "go1.11.4"
  }
 },
 "nbformat": 4,
 "nbformat_minor": 2
}
